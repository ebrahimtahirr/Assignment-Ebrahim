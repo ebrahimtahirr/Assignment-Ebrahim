{
 "cells": [
  {
   "cell_type": "markdown",
   "id": "071037f2-9e27-4290-86f6-7ac61c794f4b",
   "metadata": {},
   "source": [
    "# Data Science Tools and Ecosystem"
   ]
  },
  {
   "cell_type": "markdown",
   "id": "340943be-435a-4343-8bfd-d260f1d06e97",
   "metadata": {},
   "source": [
    "In this notebook, Data Science Tools and Ecosystem are summarized."
   ]
  },
  {
   "cell_type": "markdown",
   "id": "7bb8c4dc-79a2-45bf-ab08-7b5698db12f1",
   "metadata": {},
   "source": [
    "In this notebook, Data Science Tools and Ecosystem are summarized."
   ]
  },
  {
   "cell_type": "markdown",
   "id": "e5190d73-e3d6-430d-b7ca-f03c78909f05",
   "metadata": {
    "tags": []
   },
   "source": [
    "Some of the popular data science languages used are as follows:\n",
    "\n",
    "1. Python\n",
    "2. R\n",
    "3. Julia\n",
    "4. C++\n",
    "5. SQL"
   ]
  },
  {
   "cell_type": "markdown",
   "id": "526c5fb0-dc21-4a3c-b2a3-b9bb6941017c",
   "metadata": {},
   "source": [
    "Libraries used by Data Scientists consist of the following:\n",
    "1. TensorFlow.\n",
    "2. SciPy\n",
    "3. Pandas\n",
    "4. Keras\n",
    "5. PyTorch"
   ]
  },
  {
   "cell_type": "markdown",
   "id": "cae5734a-cca5-4ab2-ba6a-a3ad7e18b083",
   "metadata": {},
   "source": [
    "|Data Science Tools | \n",
    "| ----------------- | \n",
    "| Spyder |\n",
    "|Apache Spark|\n",
    "|Anaconda |\n"
   ]
  },
  {
   "cell_type": "markdown",
   "id": "001c9fb4-abab-48a4-bb41-5c849b0a01c3",
   "metadata": {},
   "source": [
    "### These are some examples of evaluating arithmetic expressions in Python:\n",
    "(2*5)+4"
   ]
  },
  {
   "cell_type": "code",
   "execution_count": 1,
   "id": "2d183961-8c25-4515-a03c-2aa6b09b39dd",
   "metadata": {
    "tags": []
   },
   "outputs": [
    {
     "data": {
      "text/plain": [
       "17"
      ]
     },
     "execution_count": 1,
     "metadata": {},
     "output_type": "execute_result"
    }
   ],
   "source": [
    "#This a simple arithmetic expression to mutiply then add integers\n",
    "(3*4)+5"
   ]
  },
  {
   "cell_type": "code",
   "execution_count": 2,
   "id": "7f4b280e-8fc6-467e-9430-2766746d1aae",
   "metadata": {
    "tags": []
   },
   "outputs": [
    {
     "data": {
      "text/plain": [
       "3.3333333333333335"
      ]
     },
     "execution_count": 2,
     "metadata": {},
     "output_type": "execute_result"
    }
   ],
   "source": [
    "#This code will convert 200 minutes to hours:\n",
    "(200)/60"
   ]
  },
  {
   "cell_type": "markdown",
   "id": "4be49df8-a34d-4bd2-baa4-18593a468524",
   "metadata": {
    "tags": []
   },
   "source": [
    "**Objectives**\n",
    "- Describe the components of a Data Scientist's toolkit and list various tool categories.\n",
    "- List examples of open-source tools used in data science.\n",
    "- Describe the relevant features of open-source tools.\n",
    "- List examples of commercial and cloud-based data science tools."
   ]
  },
  {
   "cell_type": "markdown",
   "id": "f124d867-bd07-452a-bf64-7b924b8f0cb2",
   "metadata": {},
   "source": [
    "## Author:\n",
    "Ebrahim Tahir"
   ]
  },
  {
   "cell_type": "code",
   "execution_count": null,
   "id": "446e6a5d-74ae-4a24-90e8-6f674f9c0759",
   "metadata": {},
   "outputs": [],
   "source": []
  }
 ],
 "metadata": {
  "kernelspec": {
   "display_name": "Python",
   "language": "python",
   "name": "conda-env-python-py"
  },
  "language_info": {
   "codemirror_mode": {
    "name": "ipython",
    "version": 3
   },
   "file_extension": ".py",
   "mimetype": "text/x-python",
   "name": "python",
   "nbconvert_exporter": "python",
   "pygments_lexer": "ipython3",
   "version": "3.7.12"
  }
 },
 "nbformat": 4,
 "nbformat_minor": 5
}
